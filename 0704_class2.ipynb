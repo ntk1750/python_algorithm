{
 "cells": [
  {
   "cell_type": "code",
   "execution_count": 5,
   "metadata": {},
   "outputs": [
    {
     "name": "stdout",
     "output_type": "stream",
     "text": [
      "10\n"
     ]
    }
   ],
   "source": [
    "#11050 이항계수 1\n",
    "# def factorial(n):\n",
    "#     if n==1:\n",
    "#         return 1\n",
    "    \n",
    "#     return n* factorial(n-1)\n",
    "import math\n",
    "N,K = map(int,input().split())\n",
    "submmit = math.factorial(N)//(math.factorial(K) * math.factorial(N-K))\n",
    "print(submmit)\n",
    "\n",
    "\n"
   ]
  },
  {
   "cell_type": "code",
   "execution_count": 13,
   "metadata": {},
   "outputs": [
    {
     "name": "stdout",
     "output_type": "stream",
     "text": [
      "3 0 0 1 2 0 0 2 "
     ]
    }
   ],
   "source": [
    "#10816 숫자카드2\n",
    "\n",
    "from bisect import bisect_left, bisect_right\n",
    "from sys import stdin\n",
    "\n",
    "N = int(input())\n",
    "N_list = list(map(int,input().split()))\n",
    "\n",
    "M = int(input())\n",
    "M_list = list(map(int,input().split()))\n",
    "N_list.sort()\n",
    "\n",
    "def count_by_range(a, left_value, right_value):\n",
    "    right_index = bisect_right(a, right_value)\n",
    "    left_index = bisect_left(a, left_value)\n",
    "    return right_index - left_index\n",
    "\n",
    "\n",
    "for i in range(len(M_list)):\n",
    "    print(count_by_range(N_list, M_list[i], M_list[i]), end=' ')\n"
   ]
  },
  {
   "cell_type": "code",
   "execution_count": null,
   "metadata": {},
   "outputs": [],
   "source": []
  }
 ],
 "metadata": {
  "kernelspec": {
   "display_name": "Python 3.8.8 ('base')",
   "language": "python",
   "name": "python3"
  },
  "language_info": {
   "codemirror_mode": {
    "name": "ipython",
    "version": 3
   },
   "file_extension": ".py",
   "mimetype": "text/x-python",
   "name": "python",
   "nbconvert_exporter": "python",
   "pygments_lexer": "ipython3",
   "version": "3.8.8"
  },
  "orig_nbformat": 4,
  "vscode": {
   "interpreter": {
    "hash": "97988529f31af50a8c6ab48987577a016cc9a5b16fa7456c2e223cc3d5ac3203"
   }
  }
 },
 "nbformat": 4,
 "nbformat_minor": 2
}
