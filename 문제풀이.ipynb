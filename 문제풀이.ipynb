{
 "cells": [
  {
   "cell_type": "code",
   "execution_count": 3,
   "metadata": {},
   "outputs": [],
   "source": [
    "import sys\n",
    "n = int(input())\n",
    "\n",
    "for i in range(n):\n",
    "    a,b = map(int,sys.stdin.readline().split())\n",
    "    print(a+b)"
   ]
  },
  {
   "cell_type": "code",
   "execution_count": 1,
   "metadata": {},
   "outputs": [
    {
     "name": "stdout",
     "output_type": "stream",
     "text": [
      "6\n"
     ]
    }
   ],
   "source": [
    "import sys\n",
    "a,b,c = map(int,input().split())\n",
    "print(a+b+c)\n"
   ]
  },
  {
   "cell_type": "code",
   "execution_count": 3,
   "metadata": {},
   "outputs": [
    {
     "name": "stdout",
     "output_type": "stream",
     "text": [
      "3\n"
     ]
    }
   ],
   "source": [
    "#14681 사문면 고르기\n",
    "x = int(input())\n",
    "y = int(input())\n",
    "\n",
    "if x>0 and y>0:\n",
    "    print(1)\n",
    "\n",
    "elif x>0 and y<0:\n",
    "    print(4)\n",
    "\n",
    "elif x<0 and y<0:\n",
    "    print(3)\n",
    "\n",
    "elif x<0 and y>0:\n",
    "    print(2)\n"
   ]
  },
  {
   "cell_type": "code",
   "execution_count": 5,
   "metadata": {},
   "outputs": [
    {
     "name": "stdout",
     "output_type": "stream",
     "text": [
      "0.8\n"
     ]
    }
   ],
   "source": [
    "#1008 a/b\n",
    "a,b = map(int,input().split())\n",
    "print(a/b)"
   ]
  },
  {
   "cell_type": "code",
   "execution_count": 8,
   "metadata": {},
   "outputs": [
    {
     "name": "stdout",
     "output_type": "stream",
     "text": [
      "1\n",
      "2\n",
      "3\n",
      "4\n",
      "5\n"
     ]
    }
   ],
   "source": [
    "#2741 N찍기\n",
    "n = int(input())\n",
    "for i in range(n):\n",
    "    print(i+1)\n"
   ]
  },
  {
   "cell_type": "code",
   "execution_count": 14,
   "metadata": {},
   "outputs": [
    {
     "name": "stdout",
     "output_type": "stream",
     "text": [
      "3628800\n"
     ]
    }
   ],
   "source": [
    "#10872 팩토리얼\n",
    "n = int(input())\n",
    "total = 1\n",
    "if n==0 or n==1:\n",
    "    print(1)\n",
    "\n",
    "else:\n",
    "    \n",
    "    for i in range(1,n+1):\n",
    "        total *= i\n",
    "    print(total)"
   ]
  },
  {
   "cell_type": "code",
   "execution_count": 18,
   "metadata": {},
   "outputs": [
    {
     "name": "stdout",
     "output_type": "stream",
     "text": [
      "2\n",
      "5\n",
      "7\n"
     ]
    }
   ],
   "source": [
    "#10950 A+B-3\n",
    "t = int(input())\n",
    "for i in range(t):\n",
    "    a,b = map(int, input().split())\n",
    "    print(a+b)"
   ]
  },
  {
   "cell_type": "code",
   "execution_count": 19,
   "metadata": {},
   "outputs": [
    {
     "name": "stdout",
     "output_type": "stream",
     "text": [
      "2\n",
      "4\n",
      "4\n"
     ]
    }
   ],
   "source": [
    "#10952 A+B-5\n",
    "while(1):\n",
    "    a,b = map(int, input().split())\n",
    "    if a==0 and b==0:\n",
    "        break\n",
    "    print(a+b)"
   ]
  },
  {
   "cell_type": "code",
   "execution_count": null,
   "metadata": {},
   "outputs": [],
   "source": []
  }
 ],
 "metadata": {
  "interpreter": {
   "hash": "febfdd980d05dd49b23324eb814208ce0360205904b45f89371e23978b005d1a"
  },
  "kernelspec": {
   "display_name": "Python 3.8.8 ('pybook')",
   "language": "python",
   "name": "python3"
  },
  "language_info": {
   "codemirror_mode": {
    "name": "ipython",
    "version": 3
   },
   "file_extension": ".py",
   "mimetype": "text/x-python",
   "name": "python",
   "nbconvert_exporter": "python",
   "pygments_lexer": "ipython3",
   "version": "3.8.8"
  },
  "orig_nbformat": 4
 },
 "nbformat": 4,
 "nbformat_minor": 2
}
