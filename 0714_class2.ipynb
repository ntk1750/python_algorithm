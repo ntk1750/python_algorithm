{
 "cells": [
  {
   "cell_type": "code",
   "execution_count": 3,
   "metadata": {},
   "outputs": [],
   "source": [
    "#2108 통계학\n",
    "from collections import Counter\n",
    "import sys\n",
    "n = int(input())\n",
    "num = []\n",
    "for i in range(n):\n",
    "    num.append(int(sys.stdin.readline()))\n",
    "\n",
    "# 산술 평균 : N개의 수들의 합을 N으로 나눈 값\n",
    "\n",
    "print(round(sum(num)/n))\n",
    "# 중앙값: N개의 수들을 증가하는 순서로 나열했을 경우 그 중앙에 위치하는 값\n",
    "num.sort()\n",
    "center = n//2\n",
    "print(num[center])\n",
    "# 최빈값: N개의 수들 중 가장 많이 나타내는 값\n",
    "cnt_li = Counter(num).most_common()\n",
    "if len(cnt_li)>1 and cnt_li[0][1] == cnt_li[1][1]:\n",
    "    print(cnt_li[1][0])\n",
    "else:\n",
    "    print(cnt_li[0][0])\n",
    "\n",
    "# 범위: N개의 수들 중 최댓값과 최솟값의 차이\n",
    "print(num[-1] - num[0])"
   ]
  },
  {
   "cell_type": "code",
   "execution_count": 1,
   "metadata": {},
   "outputs": [
    {
     "name": "stdout",
     "output_type": "stream",
     "text": [
      "15\n"
     ]
    }
   ],
   "source": [
    "#2805 나무자르기\n",
    "import sys\n",
    "N,M = map(int, sys.stdin.readline().split())\n",
    "\n",
    "tree = list(map(int, sys.stdin.readline().split()))\n",
    "\n",
    "start, end = 1, max(tree)\n",
    "\n",
    "while start<=end:\n",
    "    mid = (start+end)//2\n",
    "\n",
    "    temp = 0 \n",
    "    for i in tree:\n",
    "        if i>=mid:\n",
    "            temp+=i-mid\n",
    "    \n",
    "    if temp >=M:\n",
    "        start = mid+1\n",
    "    \n",
    "    else:\n",
    "        end = mid -1\n",
    "\n",
    "print(end)"
   ]
  },
  {
   "cell_type": "code",
   "execution_count": 2,
   "metadata": {},
   "outputs": [],
   "source": [
    "#2869 달팽이는 올라가고 싶다\n",
    "import sys\n",
    "import math\n",
    "A,B,V = map(int, sys.stdin.readline().split())\n",
    "#낮에 A 만큼 올라감\n",
    "# 밤에 B만큼 내려옴\n",
    "# 최종 목표 V\n",
    "\n",
    "#하루에 올라가는 높이 : A-B\n",
    "#마지막날 A만큼 올라갈 수 있기 때문 V-A 해줌\n",
    "day = math.ceil((V-A)/(A-B)) + 1\n",
    "print(day)"
   ]
  },
  {
   "cell_type": "code",
   "execution_count": null,
   "metadata": {},
   "outputs": [],
   "source": []
  }
 ],
 "metadata": {
  "kernelspec": {
   "display_name": "Python 3.8.8 ('base')",
   "language": "python",
   "name": "python3"
  },
  "language_info": {
   "codemirror_mode": {
    "name": "ipython",
    "version": 3
   },
   "file_extension": ".py",
   "mimetype": "text/x-python",
   "name": "python",
   "nbconvert_exporter": "python",
   "pygments_lexer": "ipython3",
   "version": "3.8.8"
  },
  "orig_nbformat": 4,
  "vscode": {
   "interpreter": {
    "hash": "97988529f31af50a8c6ab48987577a016cc9a5b16fa7456c2e223cc3d5ac3203"
   }
  }
 },
 "nbformat": 4,
 "nbformat_minor": 2
}
