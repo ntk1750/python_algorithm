{
 "cells": [
  {
   "cell_type": "code",
   "execution_count": 4,
   "metadata": {},
   "outputs": [
    {
     "name": "stdout",
     "output_type": "stream",
     "text": [
      "161\n"
     ]
    }
   ],
   "source": [
    "#1085 직사각형에서 탈출\n",
    "# 직사각형은 각 변이 좌표축에 평행 , 직사각형의 경계선까지 가는 거리 최솟값\n",
    "# 왼쪽 아래 0,0 오른쪽위  w,h\n",
    "x,y,w,h = map(int, input().split())\n",
    "\n",
    "temp_x = w-x\n",
    "temp_y = h-y\n",
    "\n",
    "zero_x = 0-x\n",
    "zero_y = 0-y\n",
    "\n",
    "abs_x = abs(zero_x)\n",
    "abs_y = abs(zero_y)\n",
    "\n",
    "\n",
    "min_x = 0\n",
    "min_y = 0\n",
    "if temp_x>abs_x:\n",
    "    \n",
    "    min_x = abs_x\n",
    "else:\n",
    "    min_x = temp_x\n",
    "\n",
    "if temp_y>abs_y:\n",
    "    min_y = abs_y\n",
    "else:\n",
    "    min_y = temp_y\n",
    "        \n",
    "\n",
    "if min_x>min_y:\n",
    "    print(min_y)\n",
    "else:\n",
    "    print(min_x)"
   ]
  },
  {
   "cell_type": "code",
   "execution_count": 5,
   "metadata": {},
   "outputs": [
    {
     "name": "stdout",
     "output_type": "stream",
     "text": [
      "yes\n",
      "no\n",
      "yes\n"
     ]
    }
   ],
   "source": [
    "#1259 팰린드롬수\n",
    "# 단어를 뒤에서부터 읽어도 똑같아면 팰린드롬이라고 함\n",
    "\n",
    "# 입력 0이들어오면 END , 각 줄마다 주어진 수가 팰린드롬수이면 yes, no\n",
    "\n",
    "while(1):\n",
    "    n = input()\n",
    "    \n",
    "    if n=='0':\n",
    "        break\n",
    "    \n",
    "    reverse_str = n[::-1]\n",
    "    \n",
    "    if reverse_str == n:\n",
    "        print('yes')\n",
    "    else:\n",
    "        print('no')\n",
    "    "
   ]
  },
  {
   "cell_type": "code",
   "execution_count": 7,
   "metadata": {},
   "outputs": [
    {
     "name": "stdout",
     "output_type": "stream",
     "text": [
      "1666\n"
     ]
    }
   ],
   "source": [
    "#1436 영화감독 숌\n",
    "# N번쨰 영화 제목은 N번째로 작은 종말숫자\n",
    "# 666부토 시작~~~ 10,000까지 있음\n",
    "\n",
    "n = int(input())\n",
    "count = 0\n",
    "six_n = 666\n",
    "while True:\n",
    "    if '666' in str(six_n): # 더한 숫자에 666이 있으면\n",
    "        count+=1 # count해줌 즉, six_n 값에 666형태로 있는것만 사용\n",
    "    \n",
    "    if count == n:\n",
    "        print(six_n)\n",
    "        break\n",
    "    \n",
    "    six_n+=1 # 단순히 계속 더해감\n"
   ]
  },
  {
   "cell_type": "code",
   "execution_count": 10,
   "metadata": {},
   "outputs": [
    {
     "name": "stdout",
     "output_type": "stream",
     "text": [
      "{1, 3, 5}\n",
      "[1, 3, 7, 9, 5]\n",
      "1\n",
      "1\n",
      "0\n",
      "0\n",
      "1\n"
     ]
    }
   ],
   "source": [
    "#1920 수찾기\n",
    "n = int(input())\n",
    "num = set(map(int,input().split()))\n",
    "\n",
    "\n",
    "m = int(input())\n",
    "num2 = list(map(int,input().split()))\n",
    "\n",
    "inter_ = num & set(num2)\n",
    "\n",
    "\n",
    "for i in num2:\n",
    "    if i in inter_:\n",
    "        print(1)\n",
    "    else:\n",
    "        print(0)\n",
    "\n"
   ]
  },
  {
   "cell_type": "code",
   "execution_count": 18,
   "metadata": {},
   "outputs": [
    {
     "name": "stdout",
     "output_type": "stream",
     "text": [
      "3\n",
      "5\n",
      "7\n",
      "11\n",
      "13\n"
     ]
    }
   ],
   "source": [
    "# 1929 소수 구하기\n",
    "m, n = map(int, input().split())\n",
    "\n",
    "def isprime(m, n):\n",
    "  n += 1                            # for문 사용을 위한 n += 1\n",
    "  prime = [True] * n                # n개의 [True]가 있는 리스트 생성\n",
    "  for i in range(2, int(n**0.5)+1): # n의 제곱근까지만 검사\n",
    "    if prime[i]:                    # prime[i]가 True일때\n",
    "      for j in range(2*i, n, i):    # prime 내 i의 배수들을 False로 변환\n",
    "        prime[j] = False\n",
    "\n",
    "  for i in range(m, n):\n",
    "    if i > 1 and prime[i] == True:  # 1 이상이면서 남은 소수들을 출력\n",
    "      print(i)\n",
    "\n",
    "isprime(m, n)"
   ]
  },
  {
   "cell_type": "code",
   "execution_count": null,
   "metadata": {},
   "outputs": [],
   "source": []
  }
 ],
 "metadata": {
  "kernelspec": {
   "display_name": "Python 3.8.8 ('pybook')",
   "language": "python",
   "name": "python3"
  },
  "language_info": {
   "codemirror_mode": {
    "name": "ipython",
    "version": 3
   },
   "file_extension": ".py",
   "mimetype": "text/x-python",
   "name": "python",
   "nbconvert_exporter": "python",
   "pygments_lexer": "ipython3",
   "version": "3.8.8"
  },
  "orig_nbformat": 4,
  "vscode": {
   "interpreter": {
    "hash": "febfdd980d05dd49b23324eb814208ce0360205904b45f89371e23978b005d1a"
   }
  }
 },
 "nbformat": 4,
 "nbformat_minor": 2
}
