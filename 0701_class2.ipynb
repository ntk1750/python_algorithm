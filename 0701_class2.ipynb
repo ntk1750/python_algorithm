{
 "cells": [
  {
   "cell_type": "code",
   "execution_count": 3,
   "metadata": {},
   "outputs": [
    {
     "name": "stdout",
     "output_type": "stream",
     "text": [
      "21\n"
     ]
    }
   ],
   "source": [
    "#2798 블랙잭\n",
    "# 각 카드에서 양의 정수가 쓰임\n",
    "# 딜러는 N장의 카드를 모두 숫자가 보이도록 놓음, 딜러는 숫자 M을 외침\n",
    "# N장의 카드 중 3장을 고름, 카드 합은 M을 넘기지 않도록, 최대한 가깝게 만들어야 함\n",
    "\n",
    "N,M = map(int,input().split())\n",
    "num = list(map(int,input().split()))\n",
    "\n",
    "l = len(num)\n",
    "answer  = 0\n",
    "for i in range(0, l-2):\n",
    "    for j in range(i+1,l-1):\n",
    "        for k in range(j+1, l):\n",
    "            if (num[i]+num[j]+num[k]) > M:\n",
    "                continue\n",
    "            else:\n",
    "                answer = max(answer, num[i]+num[j]+num[k])\n",
    "\n",
    "print(answer)\n",
    "    "
   ]
  },
  {
   "cell_type": "code",
   "execution_count": 15,
   "metadata": {},
   "outputs": [
    {
     "name": "stdout",
     "output_type": "stream",
     "text": [
      "-1\n"
     ]
    }
   ],
   "source": [
    "#2839 설탕배달\n",
    "# 3,5kg 설탕 있음\n",
    "N = int(input())\n",
    "count =0\n",
    "while N >= 0:\n",
    "    if N%5 == 0:\n",
    "        count +=N//5\n",
    "        print(count)\n",
    "        break\n",
    "    \n",
    "    N-=3\n",
    "    count+=1\n",
    "else:\n",
    "    print(-1)\n"
   ]
  },
  {
   "cell_type": "code",
   "execution_count": null,
   "metadata": {},
   "outputs": [],
   "source": []
  }
 ],
 "metadata": {
  "kernelspec": {
   "display_name": "Python 3.8.8 ('pybook')",
   "language": "python",
   "name": "python3"
  },
  "language_info": {
   "codemirror_mode": {
    "name": "ipython",
    "version": 3
   },
   "file_extension": ".py",
   "mimetype": "text/x-python",
   "name": "python",
   "nbconvert_exporter": "python",
   "pygments_lexer": "ipython3",
   "version": "3.8.8"
  },
  "orig_nbformat": 4,
  "vscode": {
   "interpreter": {
    "hash": "febfdd980d05dd49b23324eb814208ce0360205904b45f89371e23978b005d1a"
   }
  }
 },
 "nbformat": 4,
 "nbformat_minor": 2
}
