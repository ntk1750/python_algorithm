{
 "cells": [
  {
   "cell_type": "code",
   "execution_count": 1,
   "metadata": {},
   "outputs": [
    {
     "name": "stdout",
     "output_type": "stream",
     "text": [
      "4\n"
     ]
    }
   ],
   "source": [
    "# 2164 카드2\n",
    "#N장의 카드, 제일 위에 있는 것 버림, 그 다음 카드는 제일 뒤로\n",
    "# 제일 마지막에 남게 되는 카드 구하기\n",
    "\n",
    "from collections import deque\n",
    "\n",
    "N = int(input())\n",
    "\n",
    "dq = deque([])\n",
    "\n",
    "for i in range(1,N+1):\n",
    "    dq.append(i)\n",
    "\n",
    "while True:\n",
    "    if len(dq)==1:\n",
    "        print(dq.popleft())\n",
    "        break\n",
    "    dq.popleft() \n",
    "    temp = dq.popleft()\n",
    "    dq.append(temp)\n",
    "    \n",
    "    \n"
   ]
  },
  {
   "cell_type": "code",
   "execution_count": 7,
   "metadata": {},
   "outputs": [
    {
     "name": "stdout",
     "output_type": "stream",
     "text": [
      "6\n",
      "72\n"
     ]
    }
   ],
   "source": [
    "#2609 최대공약수와 최소공배수\n",
    "import math\n",
    "n,m = map(int, input().split())\n",
    "\n",
    "print(math.gcd(n,m))\n",
    "print(math.lcm(n,m))\n",
    "\n",
    "# #최대공약수\n",
    "# for i in range(min(n,m),0,-1):\n",
    "#     if n%i==0 and m%i==0:\n",
    "#         temp = i\n",
    "#         break\n",
    "# #최소공배수\n",
    "\n",
    "\n",
    "# for i in range(max(n,m),(n*m)+1):\n",
    "#     if i%n==0 and i%m==0:\n",
    "#         print(temp)\n",
    "#         print(i)\n",
    "#         break\n"
   ]
  },
  {
   "cell_type": "code",
   "execution_count": null,
   "metadata": {},
   "outputs": [],
   "source": []
  }
 ],
 "metadata": {
  "kernelspec": {
   "display_name": "Python 3.8.8 ('pybook')",
   "language": "python",
   "name": "python3"
  },
  "language_info": {
   "codemirror_mode": {
    "name": "ipython",
    "version": 3
   },
   "file_extension": ".py",
   "mimetype": "text/x-python",
   "name": "python",
   "nbconvert_exporter": "python",
   "pygments_lexer": "ipython3",
   "version": "3.8.8"
  },
  "orig_nbformat": 4,
  "vscode": {
   "interpreter": {
    "hash": "febfdd980d05dd49b23324eb814208ce0360205904b45f89371e23978b005d1a"
   }
  }
 },
 "nbformat": 4,
 "nbformat_minor": 2
}
