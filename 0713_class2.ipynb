{
 "cells": [
  {
   "cell_type": "code",
   "execution_count": 1,
   "metadata": {},
   "outputs": [],
   "source": [
    "#1654 랜선 자르기\n",
    "\n",
    "import sys\n",
    "K,N = map(int, input().split())\n",
    "lan = [int(sys.stdin.readline()) for _ in range(K)]\n",
    "\n",
    "start, end = 1, max(lan) # 이분탐색 처음과 끝\n",
    "\n",
    "while start<=end:\n",
    "    mid = (start+end)//2 \n",
    "    lines = 0 # 랜선 갯수\n",
    "    for i in lan:\n",
    "        lines+=i // mid # 분할 된 랜선 수\n",
    "        \n",
    "    if lines>=N:\n",
    "        start= mid+1\n",
    "    else:\n",
    "        end = mid -1\n",
    "        \n",
    "print(end)"
   ]
  },
  {
   "cell_type": "code",
   "execution_count": 2,
   "metadata": {},
   "outputs": [
    {
     "name": "stdout",
     "output_type": "stream",
     "text": [
      "[5]\n",
      "1\n"
     ]
    }
   ],
   "source": [
    "#1966 프린터 큐\n",
    "t = int(input())\n",
    "while t>0:\n",
    "    t-=1\n",
    "    N,M = map(int, input().split())\n",
    "    \n",
    "    li_num = list(map(int,input().split()))\n",
    "    \n",
    "    index = [0 for _ in range(N)]\n",
    "    \n",
    "    index[M] = 't'\n",
    "\n",
    "    count = 0\n",
    "    while 1:\n",
    "        if li_num[0] == max(li_num):\n",
    "            count+=1\n",
    "            if index[0] == 't':\n",
    "                print(count)\n",
    "                break\n",
    "            else:\n",
    "                li_num.pop(0)\n",
    "                index.pop(0)\n",
    "        else:\n",
    "            li_num.append(li_num.pop(0))\n",
    "            index.append(index.pop(0))\n",
    "        \n"
   ]
  },
  {
   "cell_type": "code",
   "execution_count": null,
   "metadata": {},
   "outputs": [],
   "source": []
  }
 ],
 "metadata": {
  "kernelspec": {
   "display_name": "Python 3.8.8 ('pybook')",
   "language": "python",
   "name": "python3"
  },
  "language_info": {
   "codemirror_mode": {
    "name": "ipython",
    "version": 3
   },
   "file_extension": ".py",
   "mimetype": "text/x-python",
   "name": "python",
   "nbconvert_exporter": "python",
   "pygments_lexer": "ipython3",
   "version": "3.8.8"
  },
  "orig_nbformat": 4,
  "vscode": {
   "interpreter": {
    "hash": "febfdd980d05dd49b23324eb814208ce0360205904b45f89371e23978b005d1a"
   }
  }
 },
 "nbformat": 4,
 "nbformat_minor": 2
}
