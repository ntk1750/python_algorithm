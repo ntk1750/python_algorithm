{
 "cells": [
  {
   "cell_type": "code",
   "execution_count": 2,
   "metadata": {},
   "outputs": [
    {
     "name": "stdout",
     "output_type": "stream",
     "text": [
      "20 aa\n",
      "21 rr\n",
      "21 ee\n"
     ]
    }
   ],
   "source": [
    "#10814 나이순 정렬\n",
    "N = int(input())\n",
    "\n",
    "name = []\n",
    "while N>0:\n",
    "    n,temp = map(str, input().split())\n",
    "    name.append((int(n),temp))\n",
    "    N-=1\n",
    "\n",
    "name.sort(key=lambda x:x[0])\n",
    "\n",
    "for i in name:\n",
    "    print(i[0], i[1])\n"
   ]
  },
  {
   "cell_type": "code",
   "execution_count": 4,
   "metadata": {},
   "outputs": [
    {
     "name": "stdout",
     "output_type": "stream",
     "text": [
      "NO\n",
      "NO\n",
      "NO\n"
     ]
    }
   ],
   "source": [
    "#9012 괄호\n",
    "t = int(input())\n",
    "while t>0:\n",
    "    t-=1\n",
    "    vps = list(input())\n",
    "    \n",
    "    stack = []\n",
    "    for i in vps:\n",
    "        if i=='(':\n",
    "            stack.append(i)\n",
    "        else:\n",
    "            if stack:\n",
    "                stack.pop()\n",
    "            else:\n",
    "                print(\"NO\")\n",
    "                break\n",
    "    else: \n",
    "        if stack:\n",
    "            print(\"NO\")\n",
    "        else:\n",
    "            print(\"YES\")\n",
    "        "
   ]
  },
  {
   "cell_type": "code",
   "execution_count": 3,
   "metadata": {},
   "outputs": [
    {
     "name": "stdout",
     "output_type": "stream",
     "text": [
      "wrong\n",
      "right\n",
      "right\n"
     ]
    }
   ],
   "source": [
    "#4153 직각삼각형\n",
    "while 1:\n",
    "    temp= list(map(int, input().split()))\n",
    "    if temp[0]==0 and temp[1]==0 and temp[2]==0:\n",
    "        break\n",
    "    \n",
    "    temp.sort()\n",
    "    \n",
    "    if temp[2]**2 == (temp[0]**2+ temp[1]**2):\n",
    "        print('right')\n",
    "    else:\n",
    "        print('wrong')"
   ]
  },
  {
   "cell_type": "code",
   "execution_count": 5,
   "metadata": {},
   "outputs": [
    {
     "name": "stdout",
     "output_type": "stream",
     "text": [
      "1\n",
      "2\n",
      "3\n",
      "4\n",
      "5\n"
     ]
    }
   ],
   "source": [
    "#2751 수 정렬하기2\n",
    "import sys\n",
    "n = int(input())\n",
    "num =[]\n",
    "while n>0:\n",
    "    n-=1\n",
    "    num.append(int(sys.stdin.readline()))\n",
    "\n",
    "num.sort()\n",
    "\n",
    "for i in num:\n",
    "    print(i)"
   ]
  }
 ],
 "metadata": {
  "kernelspec": {
   "display_name": "Python 3.8.8 ('pybook')",
   "language": "python",
   "name": "python3"
  },
  "language_info": {
   "codemirror_mode": {
    "name": "ipython",
    "version": 3
   },
   "file_extension": ".py",
   "mimetype": "text/x-python",
   "name": "python",
   "nbconvert_exporter": "python",
   "pygments_lexer": "ipython3",
   "version": "3.8.8"
  },
  "orig_nbformat": 4,
  "vscode": {
   "interpreter": {
    "hash": "febfdd980d05dd49b23324eb814208ce0360205904b45f89371e23978b005d1a"
   }
  }
 },
 "nbformat": 4,
 "nbformat_minor": 2
}
