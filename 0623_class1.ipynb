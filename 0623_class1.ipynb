{
 "cells": [
  {
   "cell_type": "code",
   "execution_count": null,
   "metadata": {},
   "outputs": [],
   "source": [
    "#2438 별찍기\n",
    "n = int(input())\n",
    "for i in range(1,n+1):\n",
    "    print('*'*i)"
   ]
  },
  {
   "cell_type": "code",
   "execution_count": 3,
   "metadata": {},
   "outputs": [
    {
     "name": "stdout",
     "output_type": "stream",
     "text": [
      "2 * 1 = 2\n",
      "2 * 2 = 4\n",
      "2 * 3 = 6\n",
      "2 * 4 = 8\n",
      "2 * 5 = 10\n",
      "2 * 6 = 12\n",
      "2 * 7 = 14\n",
      "2 * 8 = 16\n",
      "2 * 9 = 18\n"
     ]
    }
   ],
   "source": [
    "#2739 구구단\n",
    "n = int(input())\n",
    "for i in range(1,10):\n",
    "    sum = n*i\n",
    "    s = f'{n} * {i} = {sum}'\n",
    "    print(s)"
   ]
  },
  {
   "cell_type": "code",
   "execution_count": 13,
   "metadata": {},
   "outputs": [
    {
     "name": "stdout",
     "output_type": "stream",
     "text": [
      "200.0\n",
      "66.66666666666667\n"
     ]
    }
   ],
   "source": [
    "#1546 평균\n",
    "# 자기 점수 중 최댓값 고름  = M\n",
    "# 모든 점수를 점수 / M * 100으로 고침\n",
    "# 새로운 평균 구하기\n",
    "\n",
    "n = int(input())\n",
    "score = list(map(int, input().split()))\n",
    "\n",
    "M = max(score)\n",
    "sum = 0\n",
    "for i in score:\n",
    "    temp = i/M * 100\n",
    "    sum += temp\n",
    "\n",
    "total = sum / len(score)\n",
    "\n",
    "print(total)\n",
    "    \n"
   ]
  },
  {
   "cell_type": "code",
   "execution_count": 15,
   "metadata": {},
   "outputs": [
    {
     "name": "stdout",
     "output_type": "stream",
     "text": [
      "    *\n",
      "   **\n",
      "  ***\n",
      " ****\n",
      "*****\n"
     ]
    }
   ],
   "source": [
    "# 2439 별찍기 -2\n",
    "n = int(input())\n",
    "for i in range(1,n+1):\n",
    "    print(' '*(n-i)+('*'*i))"
   ]
  },
  {
   "cell_type": "code",
   "execution_count": 16,
   "metadata": {},
   "outputs": [
    {
     "name": "stdout",
     "output_type": "stream",
     "text": [
      "1\n"
     ]
    }
   ],
   "source": [
    "#2475 검증수\n",
    "# 컴퓨터마다 6자리 고유번호 매김\n",
    "# 고유번호의 처음 5자리는 00000 ~ 99999까지 수 중 한개 주어짐 \n",
    "# 6번째 자리는 검증수 들어감\n",
    "# 검증수는 고유번호 처음 5개 숫자 각 제곱한 수의 합을 10으로 나눈 나머지\n",
    "num = list(map(int, input().split()))\n",
    "sum = 0\n",
    "for i in num:\n",
    "    sum += (i*i)\n",
    "\n",
    "total = sum %10\n",
    "print(total)"
   ]
  },
  {
   "cell_type": "code",
   "execution_count": 18,
   "metadata": {},
   "outputs": [
    {
     "name": "stdout",
     "output_type": "stream",
     "text": [
      "8\n"
     ]
    }
   ],
   "source": [
    "#2562 최댓값\n",
    "#9개 다른 자연수 최댓값 찾고 몇번째 수인지 구하기\n",
    "max = 0\n",
    "index = 0\n",
    "for i in range(1,10):\n",
    "    num = int(input())\n",
    "    if max< num:\n",
    "        max = num\n",
    "        index = i\n",
    "\n",
    "print(max)\n",
    "print(index)\n"
   ]
  },
  {
   "cell_type": "code",
   "execution_count": 21,
   "metadata": {},
   "outputs": [
    {
     "name": "stdout",
     "output_type": "stream",
     "text": [
      "5\n",
      "4\n",
      "3\n",
      "2\n",
      "1\n"
     ]
    }
   ],
   "source": [
    "# 2742 기찍N\n",
    "# 자연수 N부터 1까지 한줄에 하나씩 출력\n",
    "N = int(input())\n",
    "for i in range(N,0,-1):\n",
    "    print(i)"
   ]
  },
  {
   "cell_type": "code",
   "execution_count": 30,
   "metadata": {},
   "outputs": [
    {
     "name": "stdout",
     "output_type": "stream",
     "text": [
      "23 0\n"
     ]
    }
   ],
   "source": [
    "#2884 알람시계\n",
    "# 원래 설정되어 있는 알람을 45분 앞서는 시간으로 바꾸는 것\n",
    "# H시 M분\n",
    "# 입력 시간은 24시간 표현을 사용 \n",
    "# 0:0 -> 23:59까지 입력\n",
    "\n",
    "H,M = map(int,input().split())\n",
    "\n",
    "total = H*60+M\n",
    "\n",
    "h = total - 45\n",
    "\n",
    "tempH = h//60\n",
    "tempM = h%60\n",
    "\n",
    "if tempH<0:\n",
    "    tempH = 23\n",
    "print(tempH,tempM)\n"
   ]
  },
  {
   "cell_type": "code",
   "execution_count": 32,
   "metadata": {},
   "outputs": [
    {
     "name": "stdout",
     "output_type": "stream",
     "text": [
      "[1, 2, 3, 4, 5, 6, 7, 8]\n",
      "ascending\n"
     ]
    }
   ],
   "source": [
    "# 2920 음계\n",
    "# 1,2,3,4,5,6,7,8 -> ascending \n",
    "# 8,7,6,5,4,3,2,1 -> descending\n",
    "# 아니면 mixed\n",
    "ascending = [1,2,3,4,5,6,7,8]\n",
    "descending = [8,7,6,5,4,3,2,1]\n",
    "\n",
    "list_n = list(map(int, input().split()))\n",
    "if list_n == ascending:\n",
    "    print('ascending')\n",
    "elif list_n == descending:\n",
    "    print('descending')\n",
    "else:\n",
    "    print('mixed')\n"
   ]
  },
  {
   "cell_type": "code",
   "execution_count": 34,
   "metadata": {},
   "outputs": [
    {
     "name": "stdout",
     "output_type": "stream",
     "text": [
      "1\n"
     ]
    }
   ],
   "source": [
    "# 3052 나머지\n",
    "# 10개 입력 받아 42로 나눈 나머지에서 서로 다른 값이 몇개인지 출력\n",
    "list_n = []\n",
    "for i in range(10):\n",
    "    list_n.append(int(input()))\n",
    "\n",
    "division = []\n",
    "for i in list_n:\n",
    "    division.append(i%42)\n",
    "    \n",
    "set_division = set(division)\n",
    "\n",
    "print(len(set_division))\n",
    "    "
   ]
  },
  {
   "cell_type": "code",
   "execution_count": 2,
   "metadata": {},
   "outputs": [
    {
     "name": "stdout",
     "output_type": "stream",
     "text": [
      "10\n",
      "9\n"
     ]
    }
   ],
   "source": [
    "# 8958 OX 퀴즈\n",
    "# O - 문제 맞은 것 X - 문제 틀린 것\n",
    "# 문제의 점수는 그 문제까지 연속된 O의 갯수\n",
    "t = int(input())\n",
    "for i in range(t):\n",
    "    list_n = list(map(str,input()))\n",
    "    sum = 0\n",
    "    ok = 1\n",
    "    for j in list_n:\n",
    "        if j=='O':\n",
    "            sum+=ok\n",
    "            ok+=1\n",
    "        else:\n",
    "            ok=1\n",
    "    \n",
    "    print(sum)\n",
    "    "
   ]
  },
  {
   "cell_type": "code",
   "execution_count": 4,
   "metadata": {},
   "outputs": [
    {
     "name": "stdout",
     "output_type": "stream",
     "text": [
      "\\    /\\\n",
      " )  ( ')\n",
      "(  /  )\n",
      " \\(__)|\n",
      "\n"
     ]
    }
   ],
   "source": [
    "# 10171 고양이\n",
    "s = \"\"\"\\\\    /\\\\\n",
    " )  ( ')\n",
    "(  /  )\n",
    " \\\\(__)|\n",
    "\"\"\"\n",
    "print(s)"
   ]
  },
  {
   "cell_type": "code",
   "execution_count": 5,
   "metadata": {},
   "outputs": [
    {
     "name": "stdout",
     "output_type": "stream",
     "text": [
      "|\\_/|\n",
      "|q p|   /}\n",
      "( 0 )\"\"\"\\\n",
      "|\"^\"`    |\n",
      "||_/=\\\\__|\n",
      "\n"
     ]
    }
   ],
   "source": [
    "# 10172 개\n",
    "s = '''|\\_/|\n",
    "|q p|   /}\n",
    "( 0 )\"\"\"\\\\\n",
    "|\"^\"`    |\n",
    "||_/=\\\\\\\\__|\n",
    "'''\n",
    "print(s)\n"
   ]
  },
  {
   "cell_type": "code",
   "execution_count": 9,
   "metadata": {},
   "outputs": [
    {
     "ename": "TypeError",
     "evalue": "'int' object is not callable",
     "output_type": "error",
     "traceback": [
      "\u001b[1;31m---------------------------------------------------------------------------\u001b[0m",
      "\u001b[1;31mTypeError\u001b[0m                                 Traceback (most recent call last)",
      "\u001b[1;32mc:\\Users\\TK\\Desktop\\0623_class1.ipynb Cell 14'\u001b[0m in \u001b[0;36m<cell line: 5>\u001b[1;34m()\u001b[0m\n\u001b[0;32m      <a href='vscode-notebook-cell:/c%3A/Users/TK/Desktop/0623_class1.ipynb#ch0000014?line=1'>2</a>\u001b[0m t \u001b[39m=\u001b[39m \u001b[39mint\u001b[39m(\u001b[39minput\u001b[39m())\n\u001b[0;32m      <a href='vscode-notebook-cell:/c%3A/Users/TK/Desktop/0623_class1.ipynb#ch0000014?line=2'>3</a>\u001b[0m num \u001b[39m=\u001b[39m \u001b[39mlist\u001b[39m(\u001b[39mmap\u001b[39m(\u001b[39mint\u001b[39m,\u001b[39minput\u001b[39m()\u001b[39m.\u001b[39msplit()))\n\u001b[1;32m----> <a href='vscode-notebook-cell:/c%3A/Users/TK/Desktop/0623_class1.ipynb#ch0000014?line=4'>5</a>\u001b[0m \u001b[39mprint\u001b[39m(\u001b[39mmin\u001b[39;49m(num),\u001b[39mmax\u001b[39m(num))\n",
      "\u001b[1;31mTypeError\u001b[0m: 'int' object is not callable"
     ]
    }
   ],
   "source": [
    "#10818 최소 최대\n",
    "t = int(input())\n",
    "num = list(map(int,input().split()))\n",
    "\n",
    "print(min(num),max(num))"
   ]
  },
  {
   "cell_type": "code",
   "execution_count": 15,
   "metadata": {},
   "outputs": [
    {
     "name": "stdout",
     "output_type": "stream",
     "text": [
      "1 4 2 3 "
     ]
    }
   ],
   "source": [
    "# 10871 X보다 작은 수\n",
    "N,X = map(int,input().split())\n",
    "A = list(map(int, input().split()))\n",
    "\n",
    "for i in A:\n",
    "    if i<X:\n",
    "        print(i,end=\" \")\n"
   ]
  },
  {
   "cell_type": "code",
   "execution_count": null,
   "metadata": {},
   "outputs": [],
   "source": [
    "#10951 A+B-4\n",
    "while(1):\n",
    "    try:     \n",
    "        a,b = map(int,input().split())\n",
    "        print(a+b)\n",
    "    except:\n",
    "        break\n"
   ]
  }
 ],
 "metadata": {
  "kernelspec": {
   "display_name": "Python 3.8.8 ('pybook')",
   "language": "python",
   "name": "python3"
  },
  "language_info": {
   "codemirror_mode": {
    "name": "ipython",
    "version": 3
   },
   "file_extension": ".py",
   "mimetype": "text/x-python",
   "name": "python",
   "nbconvert_exporter": "python",
   "pygments_lexer": "ipython3",
   "version": "3.8.8"
  },
  "orig_nbformat": 4,
  "vscode": {
   "interpreter": {
    "hash": "febfdd980d05dd49b23324eb814208ce0360205904b45f89371e23978b005d1a"
   }
  }
 },
 "nbformat": 4,
 "nbformat_minor": 2
}
